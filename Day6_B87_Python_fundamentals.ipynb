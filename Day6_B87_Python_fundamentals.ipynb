{
 "cells": [
  {
   "cell_type": "code",
   "execution_count": 9,
   "id": "4cb97740-0ba1-4398-a874-ef62ba7bbb79",
   "metadata": {},
   "outputs": [
    {
     "name": "stdout",
     "output_type": "stream",
     "text": [
      "{'color': 'green', 'points': 5}\n"
     ]
    }
   ],
   "source": [
    "fr1={'color':'green','points': 5}\n",
    "print(fr1)"
   ]
  },
  {
   "cell_type": "code",
   "execution_count": 10,
   "id": "8327595b-fb50-4c2d-b4d4-6372b595cd11",
   "metadata": {},
   "outputs": [
    {
     "data": {
      "text/plain": [
       "dict"
      ]
     },
     "execution_count": 10,
     "metadata": {},
     "output_type": "execute_result"
    }
   ],
   "source": [
    "type(fr1)"
   ]
  },
  {
   "cell_type": "code",
   "execution_count": 6,
   "id": "b80e06ff-5cb3-44f0-b326-d668e79614e3",
   "metadata": {},
   "outputs": [],
   "source": [
    "alien['start_position']='level1'"
   ]
  },
  {
   "cell_type": "code",
   "execution_count": 7,
   "id": "9955605c-dfe0-46f0-a4a0-f56c137d7288",
   "metadata": {},
   "outputs": [
    {
     "name": "stdout",
     "output_type": "stream",
     "text": [
      "{'color': 'green', 'points': 5, 'start_position': 'level1'}\n"
     ]
    }
   ],
   "source": [
    "print(alien)"
   ]
  },
  {
   "cell_type": "code",
   "execution_count": 48,
   "id": "8ee223a8-d943-4946-9034-4086ef54f0e6",
   "metadata": {},
   "outputs": [
    {
     "name": "stdout",
     "output_type": "stream",
     "text": [
      "{'class1': 'Grade 1', 'class2': '2nd Grade', 'class3': 'Grade3', 'class4': 'Grade4', 'class5': 'Grade5'}\n",
      "3rd Grade\n",
      "4th Grade\n",
      "{'class1': 'Grade 1', 'class2': '2nd Grade', 'class3': '3rd Grade', 'class4': '4th Grade'}\n"
     ]
    }
   ],
   "source": [
    "gr1={'class1': 'Grade 1','class2' : 'grade2','class3':'Grade3','class4':'Grade4','class5':'Grade5'}\n",
    "gr1['class2'] ='2nd Grade'\n",
    "print (gr1)\n",
    "gr1['class3']='3rd Grade'\n",
    "print(gr1['class3'])\n",
    "gr1['class4']='4th Grade'\n",
    "print(gr1['class4'])\n",
    "del gr1['class5']\n",
    "print (gr1)\n"
   ]
  },
  {
   "cell_type": "code",
   "execution_count": 41,
   "id": "fbd145a7-b802-4615-ad9e-033dbcfcc055",
   "metadata": {},
   "outputs": [
    {
     "name": "stdout",
     "output_type": "stream",
     "text": [
      "{'class1': 'Grade 1', 'class2': 'grade2', 'class3': 'Grade3', 'class4': 'Grade4', 'class5': '5th Grade'}\n",
      "5th Grade\n",
      "{'class1': 'Grade 1', 'class2': 'grade2', 'class3': 'Grade3', 'class4': 'Grade4', 'class5': '5th Grade'}\n",
      "5th Grade\n"
     ]
    }
   ],
   "source": [
    "print(gr1)\n",
    "type (gr1)\n",
    "print(gr1['class5'])\n",
    "\n",
    "gr1['class5'] = '5th Grade'\n",
    "print (gr1)\n",
    "print (gr1['class5'])"
   ]
  },
  {
   "cell_type": "code",
   "execution_count": 31,
   "id": "0dcb74b7-2b2f-4d89-8c36-e0e7bc8f8264",
   "metadata": {},
   "outputs": [
    {
     "name": "stdout",
     "output_type": "stream",
     "text": [
      "{'class1': 'green2', 'position': 1}\n"
     ]
    }
   ],
   "source": [
    "\n",
    "fr3={'class1' : 'green2','position' :1 }\n",
    "print (fr3)\n"
   ]
  },
  {
   "cell_type": "code",
   "execution_count": 21,
   "id": "95274f7e-3050-4e47-b27e-c12cc16e9d54",
   "metadata": {},
   "outputs": [
    {
     "name": "stdout",
     "output_type": "stream",
     "text": [
      "{'class1': 'green', 'points': 5}\n"
     ]
    }
   ],
   "source": [
    "print(fr2)"
   ]
  },
  {
   "cell_type": "code",
   "execution_count": 22,
   "id": "1977c495-9efa-4889-8448-d78bca006317",
   "metadata": {},
   "outputs": [
    {
     "data": {
      "text/plain": [
       "dict"
      ]
     },
     "execution_count": 22,
     "metadata": {},
     "output_type": "execute_result"
    }
   ],
   "source": [
    "type(fr2)"
   ]
  },
  {
   "cell_type": "code",
   "execution_count": 24,
   "id": "b013cf82-5961-4066-90c7-182697d37775",
   "metadata": {},
   "outputs": [
    {
     "name": "stdout",
     "output_type": "stream",
     "text": [
      "{'color': 'green', 'points': 5}\n"
     ]
    }
   ],
   "source": [
    "fr1={'color':'green','points': 5}\n",
    "print(fr1)"
   ]
  },
  {
   "cell_type": "code",
   "execution_count": 26,
   "id": "53bff185-563b-4b2b-9a65-6dea7d89b32b",
   "metadata": {},
   "outputs": [
    {
     "name": "stdout",
     "output_type": "stream",
     "text": [
      "{'class1': 'grade1', 'class2': 'grade2'}\n"
     ]
    }
   ],
   "source": [
    "fr4={'class1':'grade1', 'class2' : 'grade2'}\n",
    "print (fr4)"
   ]
  },
  {
   "cell_type": "code",
   "execution_count": 34,
   "id": "a7ac985c-0fc3-4c02-8434-877b19ec7ad8",
   "metadata": {},
   "outputs": [
    {
     "name": "stdout",
     "output_type": "stream",
     "text": [
      "grade1\n",
      "grade2\n"
     ]
    }
   ],
   "source": [
    "print(fr4['class1'])\n",
    "print(fr4['class2'])"
   ]
  },
  {
   "cell_type": "code",
   "execution_count": 49,
   "id": "0dacfdeb-324b-464d-a0d2-d065a10d19dc",
   "metadata": {},
   "outputs": [
    {
     "name": "stdout",
     "output_type": "stream",
     "text": [
      "['Aslam', 'Ramesh', 'Ginsen', 'Preetha', 'Hamza', 'Owais']\n"
     ]
    },
    {
     "data": {
      "text/plain": [
       "list"
      ]
     },
     "execution_count": 49,
     "metadata": {},
     "output_type": "execute_result"
    }
   ],
   "source": [
    "students=['Aslam','Ramesh','Ginsen','Preetha','Hamza','Owais']\n",
    "print(students)\n",
    "type(students)"
   ]
  },
  {
   "cell_type": "code",
   "execution_count": 55,
   "id": "77c0bc8c-f1be-4a6a-967c-9801992bd5fd",
   "metadata": {},
   "outputs": [
    {
     "name": "stdout",
     "output_type": "stream",
     "text": [
      "keep up the good work,Aslam\n",
      "keep up the good work,Ramesh\n",
      "keep up the good work,Ginsen\n",
      "keep up the good work,Preetha\n",
      "keep up the good work,Hamza\n",
      "keep up the good work,Owais\n"
     ]
    }
   ],
   "source": [
    "for x in students:\n",
    "  print ( f\"keep up the good work,{x.title()}\")"
   ]
  },
  {
   "cell_type": "code",
   "execution_count": 56,
   "id": "cd20070a-3b22-4b2f-b6c7-335b40b8a244",
   "metadata": {},
   "outputs": [
    {
     "name": "stdout",
     "output_type": "stream",
     "text": [
      "welcome to Python class,Aslam\n",
      "welcome to Python class,Ramesh\n",
      "welcome to Python class,Ginsen\n",
      "welcome to Python class,Preetha\n",
      "welcome to Python class,Hamza\n",
      "welcome to Python class,Owais\n"
     ]
    }
   ],
   "source": [
    "for y in students:\n",
    "    print( f\"welcome to Python class,{y.title()}\")\n"
   ]
  },
  {
   "cell_type": "code",
   "execution_count": 57,
   "id": "b9c62c78-cff5-4a36-85f3-f73529355d3e",
   "metadata": {},
   "outputs": [
    {
     "name": "stdout",
     "output_type": "stream",
     "text": [
      "Aslam\n",
      "Ramesh\n",
      "Ginsen\n",
      "Preetha\n",
      "Hamza\n",
      "Owais\n"
     ]
    }
   ],
   "source": [
    "for z in students:\n",
    "    print(z)"
   ]
  },
  {
   "cell_type": "code",
   "execution_count": null,
   "id": "48aadde8-88f4-4d80-9e20-7ed3a41e851f",
   "metadata": {},
   "outputs": [],
   "source": []
  },
  {
   "cell_type": "code",
   "execution_count": null,
   "id": "58f5e7ed-a4c3-4447-9365-3b52e06521fa",
   "metadata": {},
   "outputs": [],
   "source": []
  }
 ],
 "metadata": {
  "kernelspec": {
   "display_name": "Python 3 (ipykernel)",
   "language": "python",
   "name": "python3"
  },
  "language_info": {
   "codemirror_mode": {
    "name": "ipython",
    "version": 3
   },
   "file_extension": ".py",
   "mimetype": "text/x-python",
   "name": "python",
   "nbconvert_exporter": "python",
   "pygments_lexer": "ipython3",
   "version": "3.13.5"
  }
 },
 "nbformat": 4,
 "nbformat_minor": 5
}
