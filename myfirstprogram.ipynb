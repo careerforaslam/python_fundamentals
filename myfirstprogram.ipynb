{
 "cells": [
  {
   "cell_type": "code",
   "execution_count": 1,
   "id": "0dbb28a9-8a7a-4110-afbb-be178908e237",
   "metadata": {},
   "outputs": [
    {
     "name": "stdout",
     "output_type": "stream",
     "text": [
      "40\n"
     ]
    }
   ],
   "source": [
    "a=20\n",
    "b=20\n",
    "c=a+b\n",
    "print(c)\n"
   ]
  },
  {
   "cell_type": "code",
   "execution_count": 20,
   "id": "ca255f7a-8324-4ea8-a9d7-980b1da3ee31",
   "metadata": {},
   "outputs": [
    {
     "name": "stdout",
     "output_type": "stream",
     "text": [
      "mohamed aslam\n",
      "Mohamed Aslam\n",
      "Well done, Mohamed Aslam\n"
     ]
    }
   ],
   "source": [
    "firstname='mohamed'\n",
    "lastname='aslam'\n",
    "fullname=f\"{firstname} {lastname}\"\n",
    "print (fullname)\n",
    "print (fullname.title())\n",
    "message=f\"Well done, {fullname.title()}\"\n",
    "print(message)\n",
    "\n",
    "\n"
   ]
  },
  {
   "cell_type": "code",
   "execution_count": null,
   "id": "dd3f220c-3878-4793-9ffe-aaf1daa572eb",
   "metadata": {},
   "outputs": [],
   "source": []
  },
  {
   "cell_type": "code",
   "execution_count": null,
   "id": "928c960e-e0a8-4091-ad6d-9be492fd5451",
   "metadata": {},
   "outputs": [],
   "source": []
  }
 ],
 "metadata": {
  "kernelspec": {
   "display_name": "Python 3 (ipykernel)",
   "language": "python",
   "name": "python3"
  },
  "language_info": {
   "codemirror_mode": {
    "name": "ipython",
    "version": 3
   },
   "file_extension": ".py",
   "mimetype": "text/x-python",
   "name": "python",
   "nbconvert_exporter": "python",
   "pygments_lexer": "ipython3",
   "version": "3.13.5"
  }
 },
 "nbformat": 4,
 "nbformat_minor": 5
}
