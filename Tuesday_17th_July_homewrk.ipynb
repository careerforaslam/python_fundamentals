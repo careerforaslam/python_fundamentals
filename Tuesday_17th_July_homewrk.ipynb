{
 "cells": [
  {
   "cell_type": "code",
   "execution_count": 6,
   "id": "4cb97740-0ba1-4398-a874-ef62ba7bbb79",
   "metadata": {},
   "outputs": [
    {
     "name": "stdout",
     "output_type": "stream",
     "text": [
      "['Audi', 'Tata', 'Toyota', 'Benz']\n",
      "['Audi', 'Benz', 'Tata', 'Toyota']\n",
      "['Audi', 'Benz', 'Tata', 'Toyota']\n"
     ]
    }
   ],
   "source": [
    "cars=['Audi','Tata','Toyota','Benz']\n",
    "print(cars)\n",
    "cars.sort()\n",
    "print(cars)\n",
    "print(sorted(cars))\n"
   ]
  },
  {
   "cell_type": "code",
   "execution_count": 2,
   "id": "8327595b-fb50-4c2d-b4d4-6372b595cd11",
   "metadata": {},
   "outputs": [
    {
     "data": {
      "text/plain": [
       "list"
      ]
     },
     "execution_count": 2,
     "metadata": {},
     "output_type": "execute_result"
    }
   ],
   "source": [
    "type(cars)\n"
   ]
  },
  {
   "cell_type": "code",
   "execution_count": 3,
   "id": "b80e06ff-5cb3-44f0-b326-d668e79614e3",
   "metadata": {},
   "outputs": [
    {
     "data": {
      "text/plain": [
       "4"
      ]
     },
     "execution_count": 3,
     "metadata": {},
     "output_type": "execute_result"
    }
   ],
   "source": [
    "len(cars)"
   ]
  },
  {
   "cell_type": "code",
   "execution_count": 4,
   "id": "9955605c-dfe0-46f0-a4a0-f56c137d7288",
   "metadata": {},
   "outputs": [
    {
     "name": "stdout",
     "output_type": "stream",
     "text": [
      "['Benz', 'Toyota', 'Tata', 'Audi']\n"
     ]
    }
   ],
   "source": [
    "cars.reverse()\n",
    "print(cars)"
   ]
  },
  {
   "cell_type": "code",
   "execution_count": 13,
   "id": "8ee223a8-d943-4946-9034-4086ef54f0e6",
   "metadata": {},
   "outputs": [
    {
     "name": "stdout",
     "output_type": "stream",
     "text": [
      "['Aslam', 'Madhu', 'Noorullah', 'Fayaz', 'Sheikh']\n",
      "['Aslam', 'Fayaz', 'Madhu', 'Noorullah', 'Sheikh']\n"
     ]
    }
   ],
   "source": [
    "students=['Aslam','Madhu','Noorullah','Fayaz','Sheikh']\n",
    "print(students)\n",
    "\n",
    "students.sort()\n",
    "print(students)"
   ]
  },
  {
   "cell_type": "code",
   "execution_count": 6,
   "id": "fbd145a7-b802-4615-ad9e-033dbcfcc055",
   "metadata": {},
   "outputs": [
    {
     "name": "stdout",
     "output_type": "stream",
     "text": [
      "['Audi', 'Benz', 'Tata', 'Toyota']\n"
     ]
    }
   ],
   "source": [
    "print(sorted(cars))"
   ]
  },
  {
   "cell_type": "code",
   "execution_count": 7,
   "id": "0dcb74b7-2b2f-4d89-8c36-e0e7bc8f8264",
   "metadata": {},
   "outputs": [
    {
     "name": "stdout",
     "output_type": "stream",
     "text": [
      "['Audi', 'Benz', 'Tata', 'Toyota']\n"
     ]
    }
   ],
   "source": [
    "cars.sort()\n",
    "print(cars)"
   ]
  },
  {
   "cell_type": "code",
   "execution_count": 18,
   "id": "95274f7e-3050-4e47-b27e-c12cc16e9d54",
   "metadata": {},
   "outputs": [
    {
     "name": "stdout",
     "output_type": "stream",
     "text": [
      "40\n"
     ]
    },
    {
     "data": {
      "text/plain": [
       "tuple"
      ]
     },
     "execution_count": 18,
     "metadata": {},
     "output_type": "execute_result"
    }
   ],
   "source": [
    "dimensions=(10,40)\n",
    "print (dimensions[1])\n",
    "type (dimensions)"
   ]
  },
  {
   "cell_type": "code",
   "execution_count": null,
   "id": "1977c495-9efa-4889-8448-d78bca006317",
   "metadata": {},
   "outputs": [],
   "source": []
  }
 ],
 "metadata": {
  "kernelspec": {
   "display_name": "Python 3 (ipykernel)",
   "language": "python",
   "name": "python3"
  },
  "language_info": {
   "codemirror_mode": {
    "name": "ipython",
    "version": 3
   },
   "file_extension": ".py",
   "mimetype": "text/x-python",
   "name": "python",
   "nbconvert_exporter": "python",
   "pygments_lexer": "ipython3",
   "version": "3.13.5"
  }
 },
 "nbformat": 4,
 "nbformat_minor": 5
}
